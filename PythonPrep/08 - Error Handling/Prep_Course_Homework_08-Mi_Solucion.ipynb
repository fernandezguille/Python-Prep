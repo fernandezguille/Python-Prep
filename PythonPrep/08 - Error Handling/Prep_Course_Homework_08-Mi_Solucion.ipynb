{
 "cells": [
  {
   "cell_type": "markdown",
   "metadata": {},
   "source": [
    "1) Con la clase creada en el módulo 7, tener en cuenta diferentes casos en que el código pudiera arrojar error. Por ejemplo, en la creación del objeto recibimos una lista de números enteros pero ¿qué pasa si se envía otro tipo de dato?"
   ]
  },
  {
   "cell_type": "code",
   "execution_count": null,
   "metadata": {},
   "outputs": [],
   "source": [
    "import sys\n",
    "sys.path.append(r'c:\\\\Users\\\\eugen\\\\Documents\\\\Guille\\\\Python-Prep\\\\07 - Classes & OOP\\\\')\n",
    "import Utilidades as Ut\n",
    "h1 = Ut.Utilidades([1,2,3,4,5])"
   ]
  },
  {
   "cell_type": "code",
   "execution_count": null,
   "metadata": {},
   "outputs": [],
   "source": [
    "h1 = Ut.Utilidades(\"Hola\")"
   ]
  },
  {
   "cell_type": "code",
   "execution_count": null,
   "metadata": {},
   "outputs": [],
   "source": [
    "h1 = Ut.Utilidades([\"Hola\", \"Chau\"])"
   ]
  },
  {
   "cell_type": "code",
   "execution_count": null,
   "metadata": {},
   "outputs": [],
   "source": [
    "h1 = Ut.Utilidades((1,2,3,4))"
   ]
  },
  {
   "cell_type": "code",
   "execution_count": null,
   "metadata": {},
   "outputs": [],
   "source": [
    "h1 = Ut.Utilidades([3.5])"
   ]
  },
  {
   "cell_type": "markdown",
   "metadata": {},
   "source": [
    "2) En la función que hace la conversión de grados, validar que los parámetros enviados sean los esperados, de no serlo, informar cuáles son los valores esperados."
   ]
  },
  {
   "cell_type": "code",
   "execution_count": null,
   "metadata": {},
   "outputs": [],
   "source": [
    "def validar_conversor(Objeto, origen, destino):\n",
    "    \n",
    "    if (type(origen) == str):\n",
    "        if (origen != \"C\" and origen != \"F\" and origen != \"K\"):\n",
    "            raise ValueError(\"El parametro debe ser C, F o K\")\n",
    "    else:\n",
    "        raise TypeError(\"El segundo parametro es la unidad de la temperatura que se desea convertir\")\n",
    "\n",
    "    if (type(destino) == str):\n",
    "        if (destino != \"C\" and destino != \"F\" and destino != \"K\"):\n",
    "            raise ValueError(\"El parametro debe ser C, F o K\")\n",
    "    else:\n",
    "        raise TypeError(\"El tercer parametro es la unidad de la temperatura a la cual se desea convertir\")\n",
    "    \n",
    "    return Objeto.conversor(origen, destino)\n",
    "\n"
   ]
  },
  {
   "cell_type": "code",
   "execution_count": null,
   "metadata": {},
   "outputs": [],
   "source": [
    "validar_conversor(h1,\"C\",\"C\")"
   ]
  },
  {
   "cell_type": "markdown",
   "metadata": {},
   "source": [
    "3) Importar el modulo \"unittest\" y crear los siguientes casos de pruebas sobre la clase utilizada en el punto 2<br>\n",
    "Creacion del objeto incorrecta<br>\n",
    "Creacion correcta del objeto<br>\n",
    "Metodo valor_modal()<br>\n",
    "\n",
    "Se puede usar \"raise ValueError()\" en la creación de la clase para verificar el error. Investigar sobre esta funcionalidad."
   ]
  },
  {
   "cell_type": "code",
   "execution_count": null,
   "metadata": {},
   "outputs": [],
   "source": [
    "import importlib\n",
    "import unittest"
   ]
  },
  {
   "cell_type": "code",
   "execution_count": null,
   "metadata": {},
   "outputs": [],
   "source": [
    "class CasosDePrueba(unittest.TestCase):\n",
    "    \n",
    "    def test_Objeto_1(self):\n",
    "        parametro = \"Texto\"\n",
    "        self.assertRaises(ValueError, Ut.Utilidades, parametro)\n",
    "        \n",
    "    def test_Objeto_2(self):\n",
    "        parametro = [1,2,3,3,4,5,5,6]\n",
    "        h1 = Ut.Utilidades(parametro)\n",
    "        self.assertEqual(h1.lista, parametro)\n",
    "\n",
    "    def test_Objeto_3(self):\n",
    "        parametro = [\"Hola\", \"Chau\", \"Nos vemos\", \"Chau\"]\n",
    "        h1 = Ut.Utilidades(parametro)\n",
    "        self.assertEqual(h1.lista, parametro)\n",
    "    \n",
    "    def test_Moda(self):\n",
    "        parametro = [1,2,3,3,5,5,5,6]\n",
    "        h1 = Ut.Utilidades(parametro)\n",
    "        valor, repeticiones = h1.calcular_moda(h1.lista)\n",
    "        moda = [valor, repeticiones]\n",
    "        self.assertEqual(moda, [5,3])   \n",
    "    \n",
    "unittest.main(argv=[''], verbosity=2, exit=False)"
   ]
  },
  {
   "cell_type": "markdown",
   "metadata": {},
   "source": [
    "4) Probar una creación incorrecta y visualizar la salida del \"raise\""
   ]
  },
  {
   "cell_type": "code",
   "execution_count": null,
   "metadata": {},
   "outputs": [],
   "source": [
    "parametro = [\"Hola\", \"Chau\", \"Nos vemos\", \"Chau\"]"
   ]
  },
  {
   "cell_type": "code",
   "execution_count": null,
   "metadata": {},
   "outputs": [],
   "source": [
    "parametro = (1,2,3,4)"
   ]
  },
  {
   "cell_type": "code",
   "execution_count": null,
   "metadata": {},
   "outputs": [],
   "source": [
    "h1 = Ut.Utilidades(parametro)"
   ]
  },
  {
   "cell_type": "markdown",
   "metadata": {},
   "source": [
    "6) Agregar casos de pruebas para el método verifica_primos() realizando el cambio en la clase, para que devuelva una lista de True o False en función de que el elemento en la posisicón sea o no primo"
   ]
  },
  {
   "cell_type": "code",
   "execution_count": null,
   "metadata": {},
   "outputs": [],
   "source": [
    "class CasosDePrueba2(unittest.TestCase):\n",
    "    \n",
    "    def test_Primos_1(self):\n",
    "        parametro = [1,2,3,3,4,5,5,6]\n",
    "        resultado_esperado = [True,True,True,True,False,True,True,False]\n",
    "        h1 = Ut.Utilidades(parametro)\n",
    "        resultado = h1.es_primo()\n",
    "        self.assertEqual(resultado, resultado_esperado)\n",
    "        \n",
    "    def test_Primos_2(self):\n",
    "        parametro = [2,5,7,9]\n",
    "        resultado_esperado = [True,True,True,False]\n",
    "        h1 = Ut.Utilidades(parametro)\n",
    "        resultado = h1.es_primo()\n",
    "        self.assertEqual(resultado, resultado_esperado)\n",
    "\n",
    "    def test_Primos_3(self):\n",
    "        parametro = [4,6,8,9]\n",
    "        resultado_esperado = [False,False,False,False]\n",
    "        h1 = Ut.Utilidades(parametro)\n",
    "        resultado = h1.es_primo()\n",
    "        self.assertEqual(resultado, resultado_esperado)\n",
    "\n",
    "importlib.reload(Ut)\n",
    "    \n",
    "unittest.main(argv=[''], verbosity=2, exit=False)"
   ]
  },
  {
   "cell_type": "markdown",
   "metadata": {},
   "source": [
    "7) Agregar casos de pruebas para el método conversion_grados()"
   ]
  },
  {
   "cell_type": "code",
   "execution_count": null,
   "metadata": {},
   "outputs": [],
   "source": [
    "class CasosDePrueba3(unittest.TestCase):\n",
    "    \n",
    "    def test_Conversor_1(self):\n",
    "        parametro = [0,10,20,30,40]\n",
    "        h1 = Ut.Utilidades(parametro)\n",
    "        resultado = h1.conversor(\"C\",\"K\")\n",
    "        resultado_esperado = [273.15,283.15,293.15,303.15,313.15]\n",
    "        self.assertEqual(resultado, resultado_esperado)\n",
    "    \n",
    "unittest.main(argv=[''], verbosity=2, exit=False)"
   ]
  },
  {
   "cell_type": "markdown",
   "metadata": {},
   "source": [
    "8) Agregar casos de pruebas para el método factorial()"
   ]
  },
  {
   "cell_type": "code",
   "execution_count": null,
   "metadata": {},
   "outputs": [],
   "source": [
    "class CasosDePrueba4(unittest.TestCase):\n",
    "    \n",
    "    def test_Factorial_1(self):\n",
    "        parametro = [0,1,2,3,4,5]\n",
    "        h1 = Ut.Utilidades(parametro)\n",
    "        resultado = h1.factorial()\n",
    "        resultado_esperado = [1,1,2,6,24,120]\n",
    "        self.assertEqual(resultado, resultado_esperado)\n",
    "    \n",
    "unittest.main(argv=[''], verbosity=2, exit=False)"
   ]
  },
  {
   "cell_type": "markdown",
   "metadata": {},
   "source": [
    "9) Completar el código en las funciones del archivo \"checkpoint.py\" y probarlo a partir de la ejecución del script \"tests.py\""
   ]
  }
 ],
 "metadata": {
  "kernelspec": {
   "display_name": "Python 3.10.5 64-bit",
   "language": "python",
   "name": "python3"
  },
  "language_info": {
   "codemirror_mode": {
    "name": "ipython",
    "version": 3
   },
   "file_extension": ".py",
   "mimetype": "text/x-python",
   "name": "python",
   "nbconvert_exporter": "python",
   "pygments_lexer": "ipython3",
   "version": "3.10.5"
  },
  "orig_nbformat": 4,
  "vscode": {
   "interpreter": {
    "hash": "8030d4c8b54922542ddcca872d6eaa3b90843e3fd85d80bb02c262de6532e63b"
   }
  }
 },
 "nbformat": 4,
 "nbformat_minor": 2
}
