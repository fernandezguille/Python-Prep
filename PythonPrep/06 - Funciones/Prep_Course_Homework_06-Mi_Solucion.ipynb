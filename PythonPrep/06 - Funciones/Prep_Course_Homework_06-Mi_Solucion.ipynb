{
 "cells": [
  {
   "cell_type": "markdown",
   "metadata": {},
   "source": [
    "1) Crear una función que reciba un número como parámetro y devuelva True si es primo y False si no lo es "
   ]
  },
  {
   "cell_type": "code",
   "execution_count": 6,
   "metadata": {},
   "outputs": [
    {
     "name": "stdout",
     "output_type": "stream",
     "text": [
      "True\n"
     ]
    }
   ],
   "source": [
    "def es_primo(numero):\n",
    "    primo = True\n",
    "    for n in range(2,(numero//2+1)):\n",
    "        if numero % n == 0:\n",
    "            primo = False\n",
    "            break\n",
    "    return(primo)\n",
    "resultado = es_primo(2)\n",
    "print(resultado)"
   ]
  },
  {
   "cell_type": "markdown",
   "metadata": {},
   "source": [
    "2) Utilizando la función del punto 1, realizar otra función que reciba de parámetro una lista de números y devuelva sólo aquellos que son primos en otra lista"
   ]
  },
  {
   "cell_type": "code",
   "execution_count": 9,
   "metadata": {},
   "outputs": [
    {
     "name": "stdout",
     "output_type": "stream",
     "text": [
      "[53, 59, 61, 67, 71, 73, 79, 83, 89, 97]\n"
     ]
    }
   ],
   "source": [
    "lista = list(range(50,101))\n",
    "def lista_de_primos(entrada):\n",
    "    listadeprimos = []\n",
    "    for elemento in entrada:\n",
    "        if es_primo(elemento):\n",
    "            listadeprimos.append(elemento)\n",
    "    return (listadeprimos)\n",
    "lista_resultante = lista_de_primos(lista)\n",
    "print(lista_resultante)"
   ]
  },
  {
   "cell_type": "markdown",
   "metadata": {},
   "source": [
    "3) Crear una función que al recibir una lista de números, devuelva el que más se repite y cuántas veces lo hace. Si hay más de un \"más repetido\", que devuelva cualquiera"
   ]
  },
  {
   "cell_type": "code",
   "execution_count": 18,
   "metadata": {},
   "outputs": [
    {
     "name": "stdout",
     "output_type": "stream",
     "text": [
      "El valor de la moda es el numero 21, con 3 repeticiones\n"
     ]
    }
   ],
   "source": [
    "lista = [21,14,7,11,3,41,53,67,9,2,101,4,3,21,51,77,11,7,7,21,3]\n",
    "def moda(lista_entrada):\n",
    "    if len(lista_entrada) == 0:\n",
    "        return (None)\n",
    "    repeticiones = 0\n",
    "    indice = 0\n",
    "    lista_entrada.sort()\n",
    "    for elemento in lista_entrada:\n",
    "        if lista_entrada.count(elemento) >= repeticiones:\n",
    "            repeticiones = lista_entrada.count(elemento)\n",
    "            indice = lista_entrada.index(elemento)\n",
    "    return (lista_entrada[indice], repeticiones)\n",
    "numero, repeticiones = moda(lista)\n",
    "print(f\"El valor de la moda es el numero {numero}, con {repeticiones} repeticiones\")"
   ]
  },
  {
   "cell_type": "markdown",
   "metadata": {},
   "source": [
    "4) A la función del punto 3, agregar un parámetro más, que permita elegir si se requiere el menor o el mayor de los mas repetidos."
   ]
  },
  {
   "cell_type": "code",
   "execution_count": 26,
   "metadata": {},
   "outputs": [
    {
     "name": "stdout",
     "output_type": "stream",
     "text": [
      "El valor de la moda es el numero 3, con 3 repeticiones\n",
      "El valor de la moda es el numero 21, con 3 repeticiones\n"
     ]
    }
   ],
   "source": [
    "lista = [21,14,7,11,3,41,53,67,9,2,101,4,3,21,51,77,11,3,7,7,21]\n",
    "def moda_2(lista_entrada, orden):\n",
    "    '''\n",
    "    Esta función devuelve el valor modal y recibe de parámetros dos valores:\n",
    "    1-Una lista de números\n",
    "    2-Verdadero (por defecto) por si se requiere el mínimo de los más repetidos, o Falso si se requiere el máximo\n",
    "    '''\n",
    "    if len(lista_entrada) == 0:\n",
    "        return (None)\n",
    "    repeticiones = 0\n",
    "    indice = 0\n",
    "    if (orden):\n",
    "        lista_entrada.sort(reverse=True)\n",
    "    else:\n",
    "        lista_entrada.sort()\n",
    "    for elemento in lista_entrada:\n",
    "        if lista_entrada.count(elemento) >= repeticiones:\n",
    "            repeticiones = lista_entrada.count(elemento)\n",
    "            indice = lista_entrada.index(elemento)\n",
    "    return (lista_entrada[indice], repeticiones)\n",
    "numero, repeticiones = moda_2(lista,True)\n",
    "print(f\"El valor de la moda es el numero {numero}, con {repeticiones} repeticiones\")\n",
    "numero, repeticiones = moda_2(lista,False)\n",
    "print(f\"El valor de la moda es el numero {numero}, con {repeticiones} repeticiones\")"
   ]
  },
  {
   "cell_type": "markdown",
   "metadata": {},
   "source": [
    "5) Crear una función que convierta entre grados Celsius, Farenheit y Kelvin<br>\n",
    "Fórmula 1\t: (°C × 9/5) + 32 = °F<br>\n",
    "Fórmula 2\t: °C + 273.15 = °K<br>\n",
    "Debe recibir 3 parámetros: el valor, la medida de orígen y la medida de destino"
   ]
  },
  {
   "cell_type": "code",
   "execution_count": 37,
   "metadata": {},
   "outputs": [
    {
     "name": "stdout",
     "output_type": "stream",
     "text": [
      "276.15\n"
     ]
    }
   ],
   "source": [
    "def conversor(valor, origen, destino):\n",
    "    if (type(valor) != float and type(valor) != int):\n",
    "        return (\"El valor debe ser un numero\")\n",
    "    if (origen == \"C\"):\n",
    "        if (destino == \"C\"):\n",
    "            temperatura = valor\n",
    "        elif (destino == \"F\"):\n",
    "            temperatura = round(valor * 9 / 5 + 32, 2)\n",
    "        elif (destino == \"K\"):\n",
    "            temperatura = valor + 273.15\n",
    "        else:\n",
    "            return (\"El parametro de destino debe ser C, F o K\")\n",
    "    elif (origen == \"F\"):\n",
    "        if (destino == \"F\"):\n",
    "            temperatura = valor\n",
    "        elif (destino == \"C\"):\n",
    "            temperatura = round((valor - 32) * 5 / 9,2)\n",
    "        elif (destino == \"K\"):\n",
    "            temperatura = round((valor - 32) * 5 / 9 + 273.15, 2)\n",
    "        else:\n",
    "            return (\"El parametro de destino debe ser C, F o K\")\n",
    "    elif (origen == \"K\"):\n",
    "        if (destino == \"K\"):\n",
    "            temperatura = valor\n",
    "        elif (destino == \"F\"):\n",
    "            temperatura = round(valor * 9 / 5 + 305.15, 2)\n",
    "        elif (destino == \"C\"):\n",
    "            temperatura = valor - 273.15\n",
    "        else:\n",
    "            return (\"El parametro de destino debe ser C, F o K\")\n",
    "    else:\n",
    "        return (\"El parametro de origen debe ser C, F o K\")\n",
    "    return temperatura\n",
    "print(conversor(3,\"C\",\"K\"))"
   ]
  },
  {
   "cell_type": "markdown",
   "metadata": {},
   "source": [
    "6) Iterando una lista con los tres valores posibles de temperatura que recibe la función del punto 5, hacer un print para cada combinación de los mismos:"
   ]
  },
  {
   "cell_type": "code",
   "execution_count": 30,
   "metadata": {},
   "outputs": [
    {
     "name": "stdout",
     "output_type": "stream",
     "text": [
      "20 grados C convertidos a C : 20.0\n",
      "20 grados C convertidos a F : 68.0\n",
      "20 grados C convertidos a K : 293.15\n",
      "40 grados F convertidos a C : 4.44\n",
      "40 grados F convertidos a F : 40.0\n",
      "40 grados F convertidos a K : 277.59\n",
      "60 grados K convertidos a C : -213.15\n",
      "60 grados K convertidos a F : 413.15\n",
      "60 grados K convertidos a K : 60.0\n"
     ]
    }
   ],
   "source": [
    "Unidades = [\"C\",\"F\",\"K\"]\n",
    "for i in range(3):\n",
    "    for j in range(3):\n",
    "        print((i+1)*20, \"grados\", Unidades[i], \"convertidos a\", Unidades[j],\":\", round(conversor((i+1)*20,Unidades[i],Unidades[j]),2))\n",
    "        "
   ]
  },
  {
   "cell_type": "markdown",
   "metadata": {},
   "source": [
    "7) Armar una función que devuelva el factorial de un número. Tener en cuenta que el usuario puede equivocarse y enviar de parámetro un número no entero o negativo"
   ]
  },
  {
   "cell_type": "code",
   "execution_count": 39,
   "metadata": {},
   "outputs": [
    {
     "name": "stdout",
     "output_type": "stream",
     "text": [
      "Se debe ingresar un numero entero positivo\n",
      "El número debe ser un entero positivo\n",
      "Se debe ingresar un numero entero positivo\n",
      "120\n",
      "1\n"
     ]
    }
   ],
   "source": [
    "def factorial(numero):\n",
    "    if (type(numero) != int):\n",
    "        return (\"Se debe ingresar un numero entero positivo\")\n",
    "    elif (numero < 0):\n",
    "        return (\"El número debe ser un entero positivo\")\n",
    "    elif (numero > 1):\n",
    "        numero = numero * factorial(numero - 1)\n",
    "    elif (numero == 0):\n",
    "        numero = 1\n",
    "    return (numero)\n",
    "print(factorial(\"-3\"))\n",
    "print(factorial(-3))\n",
    "print(factorial(3.2))\n",
    "print(factorial(5))\n",
    "print(factorial(0))"
   ]
  }
 ],
 "metadata": {
  "kernelspec": {
   "display_name": "Python 3.10.5 64-bit",
   "language": "python",
   "name": "python3"
  },
  "language_info": {
   "codemirror_mode": {
    "name": "ipython",
    "version": 3
   },
   "file_extension": ".py",
   "mimetype": "text/x-python",
   "name": "python",
   "nbconvert_exporter": "python",
   "pygments_lexer": "ipython3",
   "version": "3.10.5"
  },
  "orig_nbformat": 4,
  "vscode": {
   "interpreter": {
    "hash": "8030d4c8b54922542ddcca872d6eaa3b90843e3fd85d80bb02c262de6532e63b"
   }
  }
 },
 "nbformat": 4,
 "nbformat_minor": 2
}
