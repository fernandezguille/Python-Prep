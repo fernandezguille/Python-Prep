{
 "cells": [
  {
   "cell_type": "markdown",
   "metadata": {},
   "source": [
    "3) Crear un archivo a partir de los datos presentes en el diccionario provisto. El cual debe contener en la primera fila el nombre de las claves y luego cada línea los elementos i-ésimos de las listas de valores contiguos y separados por coma ','. Este archivo debe llamarse clase09_ej3.csv"
   ]
  },
  {
   "cell_type": "code",
   "execution_count": 7,
   "metadata": {},
   "outputs": [],
   "source": [
    "montañas = {'nombre'    :['Everest','K2','Kanchenjunga','Lhotse','Makalu', 'Cho Oyu','Dhaulagiri','Manaslu','Nanga Parbat','Annapurna I'],\n",
    "            'orden'     :[1,2,3,4,5,6,7,8,9,10],\n",
    "            'cordillera':['Himalaya','Karakorum','Himalaya','Himalaya','Himalaya','Himalaya','Himalaya','Himalaya','Karakorum','Himalaya'],\n",
    "            'pais'      :['Nepal','Pakistan','Nepal','Nepal','Nepal','Nepal','Nepal','Nepal','Pakistan','Nepal'],\n",
    "            'altura'    :[8849,8611,8586,8516,8485,8188,8167,8163,8125,8091],\n",
    "            'campo base':[5500,5000,5200,5300,4960,4990,5120,5320,5110,5020]}"
   ]
  },
  {
   "cell_type": "code",
   "execution_count": 8,
   "metadata": {},
   "outputs": [],
   "source": [
    "import os\n",
    "archivo = open(\"clase09_ej3.csv\", 'w')\n",
    "llaves = list(montañas.keys())\n",
    "for elemento in llaves:\n",
    "    archivo.write(elemento)\n",
    "    if elemento != llaves[len(llaves)-1]:\n",
    "        archivo.write(\",\")\n",
    "for i in range(len(montañas[llaves[0]])):\n",
    "    archivo.write(\"\\n\")\n",
    "    for elemento in llaves:\n",
    "        archivo.write(str(montañas[elemento][i]))\n",
    "        if elemento != llaves[len(llaves)-1]:\n",
    "            archivo.write(\",\")\n",
    "archivo.close()"
   ]
  },
  {
   "cell_type": "markdown",
   "metadata": {},
   "source": [
    "4) Mostrar el tamaño en MB del archivo generado en el punto 3"
   ]
  },
  {
   "cell_type": "code",
   "execution_count": 12,
   "metadata": {},
   "outputs": [
    {
     "name": "stdout",
     "output_type": "stream",
     "text": [
      "El tamaño del archivo es de 0.42 Megabytes\n"
     ]
    }
   ],
   "source": [
    "print(\"El tamaño del archivo es de\",round(os.path.getsize(\"clase09_ej3.csv\")/1024,2),\"Megabytes\")"
   ]
  },
  {
   "cell_type": "markdown",
   "metadata": {},
   "source": [
    "5) Crear una carpeta llamada clase09_montañas_altas"
   ]
  },
  {
   "cell_type": "code",
   "execution_count": null,
   "metadata": {},
   "outputs": [],
   "source": [
    "os.getcwd()\n",
    "os.remove(os.getcwd()+\"\\\\clase09_montañas_altas\\\\clase09_ej3.csv\")"
   ]
  },
  {
   "cell_type": "code",
   "execution_count": null,
   "metadata": {},
   "outputs": [],
   "source": [
    "os.rmdir(\"clase09_montañas_altas\")\n",
    "os.chdir(\"clase09_montañas_altas\")"
   ]
  },
  {
   "cell_type": "code",
   "execution_count": null,
   "metadata": {},
   "outputs": [],
   "source": [
    "os.makedirs(\"clase09_montañas_altas\")"
   ]
  },
  {
   "cell_type": "markdown",
   "metadata": {},
   "source": [
    "6) Copiar el archivo clase09_ej3.scv en la carpeta clase09_montañas_altas usando la sentencia **os.system**"
   ]
  },
  {
   "cell_type": "code",
   "execution_count": 31,
   "metadata": {},
   "outputs": [
    {
     "data": {
      "text/plain": [
       "0"
      ]
     },
     "execution_count": 31,
     "metadata": {},
     "output_type": "execute_result"
    }
   ],
   "source": [
    "os.system(\"copy clase09_ej3.csv clase09_montañas_altas\")"
   ]
  },
  {
   "cell_type": "markdown",
   "metadata": {},
   "source": [
    "7) Listar el contenido de la carpeta clase09_montañas_altas"
   ]
  },
  {
   "cell_type": "code",
   "execution_count": 32,
   "metadata": {},
   "outputs": [
    {
     "data": {
      "text/plain": [
       "['clase09_ej3.csv']"
      ]
     },
     "execution_count": 32,
     "metadata": {},
     "output_type": "execute_result"
    }
   ],
   "source": [
    "os.listdir(os.getcwd()+\"\\\\clase09_montañas_altas\")"
   ]
  }
 ],
 "metadata": {
  "kernelspec": {
   "display_name": "Python 3.10.5 64-bit",
   "language": "python",
   "name": "python3"
  },
  "language_info": {
   "codemirror_mode": {
    "name": "ipython",
    "version": 3
   },
   "file_extension": ".py",
   "mimetype": "text/x-python",
   "name": "python",
   "nbconvert_exporter": "python",
   "pygments_lexer": "ipython3",
   "version": "3.10.5"
  },
  "orig_nbformat": 4,
  "vscode": {
   "interpreter": {
    "hash": "8030d4c8b54922542ddcca872d6eaa3b90843e3fd85d80bb02c262de6532e63b"
   }
  }
 },
 "nbformat": 4,
 "nbformat_minor": 2
}
