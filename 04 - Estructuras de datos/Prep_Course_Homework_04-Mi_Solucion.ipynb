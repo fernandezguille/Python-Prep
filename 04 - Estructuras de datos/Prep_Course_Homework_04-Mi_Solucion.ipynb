{
 "cells": [
  {
   "cell_type": "markdown",
   "metadata": {},
   "source": [
    "1) Crear una lista que contenga nombres de ciudades del mundo que contenga más de 5 elementos e imprimir por pantalla"
   ]
  },
  {
   "cell_type": "code",
   "execution_count": 3,
   "metadata": {},
   "outputs": [
    {
     "name": "stdout",
     "output_type": "stream",
     "text": [
      "['Buenos Aires', 'Santiago', 'Lima', 'La Paz', 'San Pablo', 'New York', 'Londres', 'Madrid']\n"
     ]
    }
   ],
   "source": [
    "lista1 = [\"Buenos Aires\", \"Santiago\", \"Lima\", \"La Paz\", \"San Pablo\", \"New York\", \"Londres\", \"Madrid\"]\n",
    "print(lista1)"
   ]
  },
  {
   "cell_type": "markdown",
   "metadata": {},
   "source": [
    "2) Imprimir por pantalla el segundo elemento de la lista"
   ]
  },
  {
   "cell_type": "code",
   "execution_count": 4,
   "metadata": {},
   "outputs": [
    {
     "name": "stdout",
     "output_type": "stream",
     "text": [
      "Santiago\n"
     ]
    }
   ],
   "source": [
    "print(lista1[1])"
   ]
  },
  {
   "cell_type": "markdown",
   "metadata": {},
   "source": [
    "3) Imprimir por pantalla del segundo al cuarto elemento"
   ]
  },
  {
   "cell_type": "code",
   "execution_count": 5,
   "metadata": {},
   "outputs": [
    {
     "name": "stdout",
     "output_type": "stream",
     "text": [
      "['Santiago', 'Lima', 'La Paz']\n"
     ]
    }
   ],
   "source": [
    "print(lista1[1:4])"
   ]
  },
  {
   "cell_type": "markdown",
   "metadata": {},
   "source": [
    "4) Visualizar el tipo de dato de la lista"
   ]
  },
  {
   "cell_type": "code",
   "execution_count": 6,
   "metadata": {},
   "outputs": [
    {
     "name": "stdout",
     "output_type": "stream",
     "text": [
      "<class 'list'>\n"
     ]
    }
   ],
   "source": [
    "print(type(lista1))"
   ]
  },
  {
   "cell_type": "markdown",
   "metadata": {},
   "source": [
    "5) Visualizar todos los elementos de la lista a partir del tercero de manera genérica, es decir, sin explicitar la posición del último elemento"
   ]
  },
  {
   "cell_type": "code",
   "execution_count": 9,
   "metadata": {},
   "outputs": [
    {
     "name": "stdout",
     "output_type": "stream",
     "text": [
      "['Lima', 'La Paz', 'San Pablo', 'New York', 'Londres', 'Madrid']\n"
     ]
    }
   ],
   "source": [
    "print(lista1[2:])"
   ]
  },
  {
   "cell_type": "markdown",
   "metadata": {},
   "source": [
    "6) Visualizar los primeros 4 elementos de la lista"
   ]
  },
  {
   "cell_type": "code",
   "execution_count": 10,
   "metadata": {},
   "outputs": [
    {
     "name": "stdout",
     "output_type": "stream",
     "text": [
      "['Buenos Aires', 'Santiago', 'Lima', 'La Paz']\n"
     ]
    }
   ],
   "source": [
    "print(lista1[:4])"
   ]
  },
  {
   "cell_type": "markdown",
   "metadata": {},
   "source": [
    "7) Agregar una ciudad más a la lista que ya exista y otra que no ¿Arroja algún tipo de error?"
   ]
  },
  {
   "cell_type": "code",
   "execution_count": 12,
   "metadata": {},
   "outputs": [
    {
     "name": "stdout",
     "output_type": "stream",
     "text": [
      "['Buenos Aires', 'Santiago', 'Lima', 'La Paz', 'San Pablo', 'New York', 'Londres', 'Madrid', 'Berlin', 'Lima', 'Berlin', 'Lima']\n"
     ]
    }
   ],
   "source": [
    "lista1.append(\"Berlin\")\n",
    "lista1.append(\"Lima\")\n",
    "print(lista1)\n",
    "#No hay error"
   ]
  },
  {
   "cell_type": "markdown",
   "metadata": {},
   "source": [
    "8) Agregar otra ciudad, pero en la cuarta posición"
   ]
  },
  {
   "cell_type": "code",
   "execution_count": 20,
   "metadata": {},
   "outputs": [
    {
     "name": "stdout",
     "output_type": "stream",
     "text": [
      "['Buenos Aires', 'Santiago', 'Lima', 'Madrir', 'Roma', 'La Paz', 'San Pablo', 'New York', 'Londres', 'Berlin', 'Lima', 'Tokyo', 'Shangai']\n"
     ]
    }
   ],
   "source": [
    "lista1.insert(3,\"Madrir\")\n",
    "print(lista1)"
   ]
  },
  {
   "cell_type": "markdown",
   "metadata": {},
   "source": [
    "9) Concatenar otra lista a la ya creada"
   ]
  },
  {
   "cell_type": "code",
   "execution_count": 16,
   "metadata": {},
   "outputs": [
    {
     "name": "stdout",
     "output_type": "stream",
     "text": [
      "['Buenos Aires', 'Santiago', 'Lima', 'Roma', 'La Paz', 'San Pablo', 'New York', 'Londres', 'Madrid', 'Berlin', 'Lima', 'Berlin', 'Lima']\n",
      "['Tokyo', 'Shangai']\n",
      "['Buenos Aires', 'Santiago', 'Lima', 'Roma', 'La Paz', 'San Pablo', 'New York', 'Londres', 'Madrid', 'Berlin', 'Lima', 'Berlin', 'Lima', 'Tokyo', 'Shangai']\n"
     ]
    }
   ],
   "source": [
    "print(lista1)\n",
    "lista2 = [\"Tokyo\",\"Shangai\"]\n",
    "print(lista2)\n",
    "lista1.extend(lista2)\n",
    "print(lista1)"
   ]
  },
  {
   "cell_type": "markdown",
   "metadata": {},
   "source": [
    "10) Encontrar el índice de la ciudad que en el punto 7 agregamos duplicada. ¿Se nota alguna particularidad?"
   ]
  },
  {
   "cell_type": "code",
   "execution_count": 21,
   "metadata": {},
   "outputs": [
    {
     "name": "stdout",
     "output_type": "stream",
     "text": [
      "2\n"
     ]
    }
   ],
   "source": [
    "print(lista1.index(\"Lima\"))\n",
    "#Devuelve unicamente el primer valor"
   ]
  },
  {
   "cell_type": "markdown",
   "metadata": {},
   "source": [
    "11) ¿Qué pasa si se busca un elemento que no existe?"
   ]
  },
  {
   "cell_type": "code",
   "execution_count": 22,
   "metadata": {},
   "outputs": [
    {
     "ename": "ValueError",
     "evalue": "'Peru' is not in list",
     "output_type": "error",
     "traceback": [
      "\u001b[1;31m---------------------------------------------------------------------------\u001b[0m",
      "\u001b[1;31mValueError\u001b[0m                                Traceback (most recent call last)",
      "\u001b[1;32mc:\\Users\\eugen\\Documents\\Guille\\Python-Prep\\04 - Estructuras de datos\\Prep_Course_Homework_04-Mi_Solucion.ipynb Celda 22\u001b[0m in \u001b[0;36m<cell line: 1>\u001b[1;34m()\u001b[0m\n\u001b[1;32m----> <a href='vscode-notebook-cell:/c%3A/Users/eugen/Documents/Guille/Python-Prep/04%20-%20Estructuras%20de%20datos/Prep_Course_Homework_04-Mi_Solucion.ipynb#ch0000021?line=0'>1</a>\u001b[0m \u001b[39mprint\u001b[39m(lista1\u001b[39m.\u001b[39;49mindex(\u001b[39m\"\u001b[39;49m\u001b[39mPeru\u001b[39;49m\u001b[39m\"\u001b[39;49m))\n",
      "\u001b[1;31mValueError\u001b[0m: 'Peru' is not in list"
     ]
    }
   ],
   "source": [
    "print(lista1.index(\"Peru\"))\n",
    "#Arroja error"
   ]
  },
  {
   "cell_type": "markdown",
   "metadata": {},
   "source": [
    "12) Eliminar un elemento de la lista"
   ]
  },
  {
   "cell_type": "code",
   "execution_count": 25,
   "metadata": {},
   "outputs": [
    {
     "ename": "ValueError",
     "evalue": "list.remove(x): x not in list",
     "output_type": "error",
     "traceback": [
      "\u001b[1;31m---------------------------------------------------------------------------\u001b[0m",
      "\u001b[1;31mValueError\u001b[0m                                Traceback (most recent call last)",
      "\u001b[1;32mc:\\Users\\eugen\\Documents\\Guille\\Python-Prep\\04 - Estructuras de datos\\Prep_Course_Homework_04-Mi_Solucion.ipynb Celda 24\u001b[0m in \u001b[0;36m<cell line: 1>\u001b[1;34m()\u001b[0m\n\u001b[1;32m----> <a href='vscode-notebook-cell:/c%3A/Users/eugen/Documents/Guille/Python-Prep/04%20-%20Estructuras%20de%20datos/Prep_Course_Homework_04-Mi_Solucion.ipynb#ch0000023?line=0'>1</a>\u001b[0m lista1\u001b[39m.\u001b[39;49mremove(\u001b[39m\"\u001b[39;49m\u001b[39mLima\u001b[39;49m\u001b[39m\"\u001b[39;49m)\n\u001b[0;32m      <a href='vscode-notebook-cell:/c%3A/Users/eugen/Documents/Guille/Python-Prep/04%20-%20Estructuras%20de%20datos/Prep_Course_Homework_04-Mi_Solucion.ipynb#ch0000023?line=1'>2</a>\u001b[0m \u001b[39mprint\u001b[39m(lista1)\n",
      "\u001b[1;31mValueError\u001b[0m: list.remove(x): x not in list"
     ]
    }
   ],
   "source": [
    "lista1.remove(\"Lima\")\n",
    "print(lista1)"
   ]
  },
  {
   "cell_type": "markdown",
   "metadata": {},
   "source": [
    "13) ¿Qué pasa si el elemento a eliminar no existe?\n",
    "Arroja error"
   ]
  },
  {
   "cell_type": "markdown",
   "metadata": {},
   "source": [
    "14) Extraer el úlimo elemento de la lista, guardarlo en una variable e imprimirlo"
   ]
  },
  {
   "cell_type": "code",
   "execution_count": 27,
   "metadata": {},
   "outputs": [
    {
     "name": "stdout",
     "output_type": "stream",
     "text": [
      "Shangai\n"
     ]
    }
   ],
   "source": [
    "a = lista1.pop()\n",
    "print(a)"
   ]
  },
  {
   "cell_type": "markdown",
   "metadata": {},
   "source": [
    "15) Mostrar la lista multiplicada por 4"
   ]
  },
  {
   "cell_type": "code",
   "execution_count": 28,
   "metadata": {},
   "outputs": [
    {
     "name": "stdout",
     "output_type": "stream",
     "text": [
      "['Tokyo', 'Shangai', 'Tokyo', 'Shangai', 'Tokyo', 'Shangai', 'Tokyo', 'Shangai']\n"
     ]
    }
   ],
   "source": [
    "print(lista2 * 4)"
   ]
  },
  {
   "cell_type": "markdown",
   "metadata": {},
   "source": [
    "16) Crear una tupla que contenga los números enteros del 1 al 20"
   ]
  },
  {
   "cell_type": "code",
   "execution_count": 9,
   "metadata": {},
   "outputs": [
    {
     "name": "stdout",
     "output_type": "stream",
     "text": [
      "<class 'list'>\n",
      "<class 'tuple'>\n",
      "(1, 2, 3, 4, 5, 6, 7, 8, 9, 10, 11, 12, 13, 14, 15, 16, 17, 18, 19, 20)\n"
     ]
    }
   ],
   "source": [
    "lista3 = []\n",
    "print(type(lista3))\n",
    "for n in range(1,21):\n",
    "    lista3.append(n)\n",
    "tup = tuple(lista3)\n",
    "print(type(tup))\n",
    "print(tup) "
   ]
  },
  {
   "cell_type": "markdown",
   "metadata": {},
   "source": [
    "17) Imprimir desde el índice 10 al 15 de la tupla"
   ]
  },
  {
   "cell_type": "code",
   "execution_count": 52,
   "metadata": {},
   "outputs": [
    {
     "name": "stdout",
     "output_type": "stream",
     "text": [
      "(11, 12, 13, 14, 15)\n"
     ]
    }
   ],
   "source": [
    "print(tup[10:15])"
   ]
  },
  {
   "cell_type": "markdown",
   "metadata": {},
   "source": [
    "18) Evaluar si los números 20 y 30 están dentro de la tupla"
   ]
  },
  {
   "cell_type": "code",
   "execution_count": 51,
   "metadata": {},
   "outputs": [
    {
     "name": "stdout",
     "output_type": "stream",
     "text": [
      "El numero 20 se encuentra en el indice 19\n",
      "El numero 30 no se encuentra en la tupla\n"
     ]
    }
   ],
   "source": [
    "if 20 in tup:\n",
    "    print(\"El numero 20 se encuentra en el indice\", tup.index(20))\n",
    "else:\n",
    "    print(\"El numero 20 no se encuentra en la tupla\")\n",
    "if 30 in tup :\n",
    "    print(\"El numero 30 se encuentra en el indice\", tup.index(30))\n",
    "else:\n",
    "    print(\"El numero 30 no se encuentra en la tupla\")"
   ]
  },
  {
   "cell_type": "markdown",
   "metadata": {},
   "source": [
    "19) Con la lista creada en el punto 1, validar la existencia del elemento 'París' y si no existe, agregarlo. Utilizar una variable e informar lo sucedido."
   ]
  },
  {
   "cell_type": "code",
   "execution_count": 46,
   "metadata": {},
   "outputs": [
    {
     "name": "stdout",
     "output_type": "stream",
     "text": [
      "Paris ya se encuentra en la lista\n",
      "['Buenos Aires', 'Santiago', 'Madrir', 'Roma', 'La Paz', 'San Pablo', 'New York', 'Londres', 'Berlin', 'Tokyo', 'Paris']\n"
     ]
    }
   ],
   "source": [
    "new = \"Paris\"\n",
    "if new in lista1:\n",
    "    print(new, \"ya se encuentra en la lista\")\n",
    "else:\n",
    "    lista1.append(new)\n",
    "    print(new, \"fue agregado a la lista\")\n",
    "print(lista1)"
   ]
  },
  {
   "cell_type": "markdown",
   "metadata": {},
   "source": [
    "20) Mostrar la cantidad de veces que se encuentra un elemento específico dentro de la tupla y de la lista"
   ]
  },
  {
   "cell_type": "code",
   "execution_count": 50,
   "metadata": {},
   "outputs": [
    {
     "name": "stdout",
     "output_type": "stream",
     "text": [
      "1\n",
      "1\n"
     ]
    }
   ],
   "source": [
    "print(lista1.count(\"Tokyo\"))\n",
    "print(tup.count(7))"
   ]
  },
  {
   "cell_type": "markdown",
   "metadata": {},
   "source": [
    "21) Convertir la tupla en una lista"
   ]
  },
  {
   "cell_type": "code",
   "execution_count": 48,
   "metadata": {},
   "outputs": [
    {
     "name": "stdout",
     "output_type": "stream",
     "text": [
      "[1, 2, 3, 4, 5, 6, 7, 8, 9, 10, 11, 12, 13, 14, 15, 16, 17, 18, 19, 20]\n"
     ]
    }
   ],
   "source": [
    "lista3 = list(tup)\n",
    "print(lista3)"
   ]
  },
  {
   "cell_type": "markdown",
   "metadata": {},
   "source": [
    "22) Desempaquetar solo los primeros 3 elementos de la tupla en 3 variables"
   ]
  },
  {
   "cell_type": "code",
   "execution_count": 11,
   "metadata": {},
   "outputs": [
    {
     "name": "stdout",
     "output_type": "stream",
     "text": [
      "Desempaquetamos: Rojo Amarillo Azul\n"
     ]
    }
   ],
   "source": [
    "tup = \"Rojo\", \"Amarillo\", \"Azul\"\n",
    "var1, var2, var3 = tup\n",
    "print(\"Desempaquetamos:\", var1, var2, var3)"
   ]
  },
  {
   "cell_type": "markdown",
   "metadata": {},
   "source": [
    "23) Crear un diccionario utilizando la lista crada en el punto 1, asignandole la clave \"ciudad\". Agregar tambien otras claves, como puede ser \"Pais\" y \"Continente\"."
   ]
  },
  {
   "cell_type": "code",
   "execution_count": 12,
   "metadata": {},
   "outputs": [
    {
     "name": "stdout",
     "output_type": "stream",
     "text": [
      "dict_values([['Buenos Aires', 'Santiago', 'Lima', 'La Paz', 'San Pablo', 'New York', 'Londres', 'Madrid'], [1, 2, 3, 4, 5, 6, 7, 8, 9, 10, 11, 12, 13, 14, 15, 16, 17, 18, 19, 20], ['Declan', 'Kilian', 'Eugenia', 'Guillermo'], ['Rojo', 'Amarillo', 'Azul']])\n"
     ]
    }
   ],
   "source": [
    "lista2 = [\"Declan\", \"Kilian\", \"Eugenia\", \"Guillermo\"]\n",
    "diccio = {  \"Ciudad\": lista1,\n",
    "            \"Numero\": lista3,\n",
    "            \"Nombre\": lista2, \n",
    "            \"Color\": list(tup)}\n",
    "print(diccio)"
   ]
  },
  {
   "cell_type": "markdown",
   "metadata": {},
   "source": [
    "24) Imprimir las claves del diccionario"
   ]
  },
  {
   "cell_type": "code",
   "execution_count": 13,
   "metadata": {},
   "outputs": [
    {
     "name": "stdout",
     "output_type": "stream",
     "text": [
      "dict_keys(['Ciudad', 'Numero', 'Nombre', 'Color'])\n"
     ]
    }
   ],
   "source": [
    "print(diccio.keys())"
   ]
  },
  {
   "cell_type": "markdown",
   "metadata": {},
   "source": [
    "25) Imprimir las ciudades a través de su clave"
   ]
  },
  {
   "cell_type": "code",
   "execution_count": 14,
   "metadata": {},
   "outputs": [
    {
     "name": "stdout",
     "output_type": "stream",
     "text": [
      "['Buenos Aires', 'Santiago', 'Lima', 'La Paz', 'San Pablo', 'New York', 'Londres', 'Madrid']\n"
     ]
    }
   ],
   "source": [
    "print(diccio[\"Ciudad\"])"
   ]
  }
 ],
 "metadata": {
  "kernelspec": {
   "display_name": "Python 3.10.5 64-bit",
   "language": "python",
   "name": "python3"
  },
  "language_info": {
   "codemirror_mode": {
    "name": "ipython",
    "version": 3
   },
   "file_extension": ".py",
   "mimetype": "text/x-python",
   "name": "python",
   "nbconvert_exporter": "python",
   "pygments_lexer": "ipython3",
   "version": "3.10.5"
  },
  "orig_nbformat": 4,
  "vscode": {
   "interpreter": {
    "hash": "8030d4c8b54922542ddcca872d6eaa3b90843e3fd85d80bb02c262de6532e63b"
   }
  }
 },
 "nbformat": 4,
 "nbformat_minor": 2
}
