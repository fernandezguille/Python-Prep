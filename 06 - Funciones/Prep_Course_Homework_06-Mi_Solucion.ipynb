{
 "cells": [
  {
   "cell_type": "markdown",
   "metadata": {},
   "source": [
    "1) Crear una función que reciba un número como parámetro y devuelva True si es primo y False si no lo es "
   ]
  },
  {
   "cell_type": "code",
   "execution_count": 14,
   "metadata": {},
   "outputs": [
    {
     "name": "stdout",
     "output_type": "stream",
     "text": [
      "False\n"
     ]
    }
   ],
   "source": [
    "def es_primo(numero):\n",
    "    primo = True\n",
    "    for n in range(2,(numero//2+1)):\n",
    "        if numero % n == 0:\n",
    "            primo = False\n",
    "            break\n",
    "    return(primo)\n",
    "print(es_primo(4))"
   ]
  },
  {
   "cell_type": "markdown",
   "metadata": {},
   "source": [
    "2) Utilizando la función del punto 1, realizar otra función que reciba de parámetro una lista de números y devuelva sólo aquellos que son primos en otra lista"
   ]
  },
  {
   "cell_type": "code",
   "execution_count": 15,
   "metadata": {},
   "outputs": [
    {
     "name": "stdout",
     "output_type": "stream",
     "text": [
      "[7, 11, 3, 41, 53, 67, 2, 101]\n"
     ]
    }
   ],
   "source": [
    "lista = [21,14,7,11,3,41,53,67,9,2,101,4]\n",
    "listadeprimos = []\n",
    "def lista_de_primos(entrada):\n",
    "    for elemento in entrada:\n",
    "        if es_primo(elemento):\n",
    "            listadeprimos.append(elemento)\n",
    "lista_de_primos(lista)\n",
    "print(listadeprimos)"
   ]
  },
  {
   "cell_type": "markdown",
   "metadata": {},
   "source": [
    "3) Crear una función que al recibir una lista de números, devuelva el que más se repite y cuántas veces lo hace. Si hay más de un \"más repetido\", que devuelva cualquiera"
   ]
  },
  {
   "cell_type": "code",
   "execution_count": 28,
   "metadata": {},
   "outputs": [
    {
     "name": "stdout",
     "output_type": "stream",
     "text": [
      "El que más se repite es el numero 3\n",
      "Se repite 3 veces\n"
     ]
    }
   ],
   "source": [
    "lista = [21,14,7,11,3,41,53,67,9,2,101,4,3,21,51,77,11,7,7,21,3]\n",
    "def mas_repeticiones(entrada):\n",
    "    repeticiones = 0\n",
    "    indice = 0\n",
    "    for elemento in entrada:\n",
    "        if entrada.count(elemento) >= repeticiones:\n",
    "            repeticiones = entrada.count(elemento)\n",
    "            indice = entrada.index(elemento)\n",
    "    print(\"El que más se repite es el numero\", entrada[indice])\n",
    "    print(\"Se repite\", repeticiones, \"veces\")\n",
    "mas_repeticiones(lista)\n"
   ]
  },
  {
   "cell_type": "markdown",
   "metadata": {},
   "source": [
    "4) A la función del punto 3, agregar un parámetro más, que permita elegir si se requiere el menor o el mayor de los mas repetidos."
   ]
  },
  {
   "cell_type": "code",
   "execution_count": 32,
   "metadata": {},
   "outputs": [
    {
     "name": "stdout",
     "output_type": "stream",
     "text": [
      "El más alto que se repite es el numero 21 . Se repite 3 veces\n"
     ]
    }
   ],
   "source": [
    "lista = [21,14,7,11,3,41,53,67,9,2,101,4,3,21,51,77,11,3,7,7,21,3]\n",
    "def mayor_repetido(entrada):\n",
    "    repeticiones = 0\n",
    "    indice = 0\n",
    "    for elemento in entrada:\n",
    "        if entrada.count(elemento) >= repeticiones:\n",
    "            if elemento >= entrada[indice]:\n",
    "                repeticiones = entrada.count(elemento)\n",
    "                indice = entrada.index(elemento)\n",
    "    print(\"El más alto que se repite es el numero\", entrada[indice],\". Se repite\", repeticiones, \"veces\")\n",
    "mayor_repetido(lista)"
   ]
  },
  {
   "cell_type": "markdown",
   "metadata": {},
   "source": [
    "5) Crear una función que convierta entre grados Celsius, Farenheit y Kelvin<br>\n",
    "Fórmula 1\t: (°C × 9/5) + 32 = °F<br>\n",
    "Fórmula 2\t: °C + 273.15 = °K<br>\n",
    "Debe recibir 3 parámetros: el valor, la medida de orígen y la medida de destino"
   ]
  },
  {
   "cell_type": "code",
   "execution_count": 47,
   "metadata": {},
   "outputs": [],
   "source": [
    "def conversor(valor, origen, destino):\n",
    "    valor = float(valor)\n",
    "    if (origen == \"C\"):\n",
    "        if (destino == \"C\"):\n",
    "            temperatura = valor\n",
    "        elif (destino == \"F\"):\n",
    "            temperatura = round(valor * 9 / 5 + 32, 2)\n",
    "        elif (destino == \"K\"):\n",
    "            temperatura = valor + 273.15\n",
    "        else:\n",
    "            print(\"El parametro de destino debe ser C, F o K\")\n",
    "    elif (origen == \"F\"):\n",
    "        if (destino == \"F\"):\n",
    "            temperatura = valor\n",
    "        elif (destino == \"C\"):\n",
    "            temperatura = round((valor - 32) * 5 / 9,2)\n",
    "        elif (destino == \"K\"):\n",
    "            temperatura = round((valor - 32) * 5 / 9 + 273.15, 2)\n",
    "        else:\n",
    "            print(\"El parametro de destino debe ser C, F o K\")\n",
    "    elif (origen == \"K\"):\n",
    "        if (destino == \"K\"):\n",
    "            temperatura = valor\n",
    "        elif (destino == \"F\"):\n",
    "            temperatura = round(valor * 9 / 5 + 305.15, 2)\n",
    "        elif (destino == \"C\"):\n",
    "            temperatura = valor - 273.15\n",
    "        else:\n",
    "            print(\"El parametro de destino debe ser C, F o K\")\n",
    "    else:\n",
    "        print(\"El parametro de origen debe ser C, F o K\")\n",
    "    return temperatura\n",
    "#conversor(input(\"Ingrese valor a convertir\"),input(\"Ingrese unidad de origen\"),input(\"Ingrese unidad de destino\")) "
   ]
  },
  {
   "cell_type": "markdown",
   "metadata": {},
   "source": [
    "6) Iterando una lista con los tres valores posibles de temperatura que recibe la función del punto 5, hacer un print para cada combinación de los mismos:"
   ]
  },
  {
   "cell_type": "code",
   "execution_count": 51,
   "metadata": {},
   "outputs": [
    {
     "name": "stdout",
     "output_type": "stream",
     "text": [
      "20 grados C convertidos a C : 20.0\n",
      "20 grados C convertidos a F : 68.0\n",
      "20 grados C convertidos a K : 293.15\n",
      "40 grados F convertidos a C : 4.44\n",
      "40 grados F convertidos a F : 40.0\n",
      "40 grados F convertidos a K : 277.59\n",
      "60 grados K convertidos a C : -213.14999999999998\n",
      "60 grados K convertidos a F : 413.15\n",
      "60 grados K convertidos a K : 60.0\n"
     ]
    }
   ],
   "source": [
    "Unidades = [\"C\",\"F\",\"K\"]\n",
    "for i in range(3):\n",
    "    for j in range(3):\n",
    "        print((i+1)*20, \"grados\", Unidades[i], \"convertidos a\", Unidades[j],\":\", conversor((i+1)*20,Unidades[i],Unidades[j]))\n",
    "        "
   ]
  },
  {
   "cell_type": "markdown",
   "metadata": {},
   "source": [
    "7) Armar una función que devuelva el factorial de un número. Tener en cuenta que el usuario puede equivocarse y enviar de parámetro un número no entero o negativo"
   ]
  },
  {
   "cell_type": "code",
   "execution_count": null,
   "metadata": {},
   "outputs": [],
   "source": []
  }
 ],
 "metadata": {
  "kernelspec": {
   "display_name": "Python 3.10.5 64-bit",
   "language": "python",
   "name": "python3"
  },
  "language_info": {
   "codemirror_mode": {
    "name": "ipython",
    "version": 3
   },
   "file_extension": ".py",
   "mimetype": "text/x-python",
   "name": "python",
   "nbconvert_exporter": "python",
   "pygments_lexer": "ipython3",
   "version": "3.10.5"
  },
  "orig_nbformat": 4,
  "vscode": {
   "interpreter": {
    "hash": "8030d4c8b54922542ddcca872d6eaa3b90843e3fd85d80bb02c262de6532e63b"
   }
  }
 },
 "nbformat": 4,
 "nbformat_minor": 2
}
